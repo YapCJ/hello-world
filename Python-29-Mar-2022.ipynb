{
 "cells": [
  {
   "cell_type": "code",
   "execution_count": null,
   "id": "b9c1bf7f",
   "metadata": {},
   "outputs": [],
   "source": [
    "2 + ((3**2 - 6/3) + (2*4)) / 2"
   ]
  },
  {
   "cell_type": "code",
   "execution_count": null,
   "id": "46bd0632",
   "metadata": {},
   "outputs": [],
   "source": [
    "((5*2)/(7-1)*((2**3-4)))+2**2"
   ]
  },
  {
   "cell_type": "code",
   "execution_count": null,
   "id": "99572e44",
   "metadata": {},
   "outputs": [],
   "source": [
    "type(5)"
   ]
  },
  {
   "cell_type": "code",
   "execution_count": null,
   "id": "5d4d32cb",
   "metadata": {},
   "outputs": [],
   "source": [
    "type(3.5)"
   ]
  },
  {
   "cell_type": "code",
   "execution_count": null,
   "id": "214b1dc4",
   "metadata": {},
   "outputs": [],
   "source": [
    "type(\"hello\")"
   ]
  },
  {
   "cell_type": "code",
   "execution_count": null,
   "id": "84519412",
   "metadata": {},
   "outputs": [],
   "source": [
    "type([1,2,3])"
   ]
  },
  {
   "cell_type": "code",
   "execution_count": null,
   "id": "5c8365d7",
   "metadata": {},
   "outputs": [],
   "source": [
    "type(True)"
   ]
  },
  {
   "cell_type": "code",
   "execution_count": null,
   "id": "5e22fbaf",
   "metadata": {},
   "outputs": [],
   "source": [
    "type(\"False\")"
   ]
  },
  {
   "cell_type": "code",
   "execution_count": null,
   "id": "a338510c",
   "metadata": {},
   "outputs": [],
   "source": [
    "type([\"False\", True, 5.0, 10])"
   ]
  },
  {
   "cell_type": "code",
   "execution_count": null,
   "id": "c8317b57",
   "metadata": {},
   "outputs": [],
   "source": [
    "ans = input(\"Enter a number: \")"
   ]
  },
  {
   "cell_type": "code",
   "execution_count": null,
   "id": "e0dccb5e",
   "metadata": {},
   "outputs": [],
   "source": [
    "type(ans)"
   ]
  },
  {
   "cell_type": "code",
   "execution_count": null,
   "id": "5d3da8ce",
   "metadata": {},
   "outputs": [],
   "source": [
    "ans = float(input(\"Enter a number: \"))"
   ]
  },
  {
   "cell_type": "code",
   "execution_count": null,
   "id": "38089916",
   "metadata": {},
   "outputs": [],
   "source": [
    "print(ans)"
   ]
  },
  {
   "cell_type": "code",
   "execution_count": null,
   "id": "49a7a4ee",
   "metadata": {},
   "outputs": [],
   "source": [
    "print(\"True\"*5)"
   ]
  },
  {
   "cell_type": "code",
   "execution_count": null,
   "id": "bf0a1ec4",
   "metadata": {},
   "outputs": [],
   "source": [
    "for i in range(5):\n",
    "    print(\"True\")"
   ]
  },
  {
   "cell_type": "code",
   "execution_count": null,
   "id": "89c62f85",
   "metadata": {},
   "outputs": [],
   "source": [
    "for i in range(5):\n",
    "    print(\"True\",end=\"\")"
   ]
  },
  {
   "cell_type": "code",
   "execution_count": null,
   "id": "6ca83bdf",
   "metadata": {},
   "outputs": [],
   "source": [
    "for i in range(5):\n",
    "    print(\"True\",end=\"\\t\")"
   ]
  },
  {
   "cell_type": "code",
   "execution_count": null,
   "id": "aac64517",
   "metadata": {},
   "outputs": [],
   "source": [
    "for i in range(5):\n",
    "    print(\"True\",end=\" \")"
   ]
  },
  {
   "cell_type": "code",
   "execution_count": null,
   "id": "56fa88d3",
   "metadata": {},
   "outputs": [],
   "source": [
    "a_string = \"Hello World\""
   ]
  },
  {
   "cell_type": "code",
   "execution_count": null,
   "id": "2ee1cfb1",
   "metadata": {},
   "outputs": [],
   "source": [
    "a_string[5]"
   ]
  },
  {
   "cell_type": "code",
   "execution_count": null,
   "id": "addf7664",
   "metadata": {},
   "outputs": [],
   "source": [
    "a_string[5]=\"x\"\n",
    "print(a_string)"
   ]
  },
  {
   "cell_type": "code",
   "execution_count": null,
   "id": "3c24636f",
   "metadata": {},
   "outputs": [],
   "source": [
    "new_string = a_string[:5] + \"x\" + a_string[6:]\n",
    "print(new_string)"
   ]
  },
  {
   "cell_type": "code",
   "execution_count": null,
   "id": "9b4166a9",
   "metadata": {},
   "outputs": [],
   "source": [
    "print(a_string[::2])"
   ]
  },
  {
   "cell_type": "code",
   "execution_count": null,
   "id": "1f2b3f59",
   "metadata": {},
   "outputs": [],
   "source": [
    "a_string = \"Hello World\"\n",
    "print(a_string[3::2])"
   ]
  },
  {
   "cell_type": "code",
   "execution_count": null,
   "id": "edfffab8",
   "metadata": {},
   "outputs": [],
   "source": [
    "(True and False) or (False or True)"
   ]
  },
  {
   "cell_type": "code",
   "execution_count": null,
   "id": "7fc7552b",
   "metadata": {},
   "outputs": [],
   "source": [
    "(True and False)"
   ]
  },
  {
   "cell_type": "code",
   "execution_count": null,
   "id": "71528d39",
   "metadata": {},
   "outputs": [],
   "source": [
    "(False or True)"
   ]
  },
  {
   "cell_type": "code",
   "execution_count": null,
   "id": "2a4602bf",
   "metadata": {},
   "outputs": [],
   "source": [
    "True and False or False or True"
   ]
  },
  {
   "cell_type": "code",
   "execution_count": null,
   "id": "5cd92239",
   "metadata": {},
   "outputs": [],
   "source": [
    "x = 3\n",
    "y = 5"
   ]
  },
  {
   "cell_type": "code",
   "execution_count": null,
   "id": "4968c64b",
   "metadata": {},
   "outputs": [],
   "source": [
    "(x==6) or (y>=5) and (x>5)"
   ]
  },
  {
   "cell_type": "code",
   "execution_count": null,
   "id": "0214d5b9",
   "metadata": {},
   "outputs": [],
   "source": [
    "((x<=3) or (x>=3)) and (y<x)"
   ]
  },
  {
   "cell_type": "code",
   "execution_count": null,
   "id": "14b9a256",
   "metadata": {},
   "outputs": [],
   "source": [
    "a_list = [\"a\", \"b\", \"c\", 2.5, \"True\", True]"
   ]
  },
  {
   "cell_type": "code",
   "execution_count": null,
   "id": "751a349e",
   "metadata": {},
   "outputs": [],
   "source": [
    "\"b\" in a_list"
   ]
  },
  {
   "cell_type": "code",
   "execution_count": null,
   "id": "3afbad84",
   "metadata": {},
   "outputs": [],
   "source": [
    "\"True\" in a_list"
   ]
  },
  {
   "cell_type": "code",
   "execution_count": null,
   "id": "13ec8dbe",
   "metadata": {},
   "outputs": [],
   "source": [
    "for item in a_list:\n",
    "    print(item*2)"
   ]
  },
  {
   "cell_type": "code",
   "execution_count": null,
   "id": "1ffd0761",
   "metadata": {},
   "outputs": [],
   "source": [
    "x = 5\n",
    "y = 10\n",
    "symbol = \"^\""
   ]
  },
  {
   "cell_type": "code",
   "execution_count": null,
   "id": "76f22950",
   "metadata": {},
   "outputs": [],
   "source": [
    "if x <= 5:\n",
    "    if y > 20:\n",
    "        for i in range(x):\n",
    "            print(symbol,end=\"\")\n",
    "    elif x > 5:\n",
    "        for i in range(y):\n",
    "            print(symbol,end=\"\")\n",
    "    else:\n",
    "        for i in range(x+y):\n",
    "            print(symbol,end=\"\")\n",
    "else:\n",
    "    for i in range(y/2):\n",
    "        print(symbol,end=\"\")"
   ]
  },
  {
   "cell_type": "code",
   "execution_count": null,
   "id": "e2257dea",
   "metadata": {},
   "outputs": [],
   "source": [
    "treasure_map = [25,[\"###\",[\"$$$\",\"###\"],1,2]]"
   ]
  },
  {
   "cell_type": "code",
   "execution_count": null,
   "id": "b9552c2b",
   "metadata": {},
   "outputs": [],
   "source": [
    "print(treasure_map[1])"
   ]
  },
  {
   "cell_type": "code",
   "execution_count": null,
   "id": "ccdc876b",
   "metadata": {},
   "outputs": [],
   "source": [
    "print(treasure_map[1][1])"
   ]
  },
  {
   "cell_type": "code",
   "execution_count": null,
   "id": "5c8b781f",
   "metadata": {},
   "outputs": [],
   "source": [
    "print(treasure_map[1][1][0])"
   ]
  },
  {
   "cell_type": "code",
   "execution_count": null,
   "id": "3f80635d",
   "metadata": {},
   "outputs": [],
   "source": [
    "pets=[\"dog\",\"cat\",\"rat\",\"fish\"]\n",
    "pets[2]=\"dragon\"\n",
    "print(pets)"
   ]
  },
  {
   "cell_type": "code",
   "execution_count": null,
   "id": "a8e4b3bd",
   "metadata": {},
   "outputs": [],
   "source": [
    "pets=['dog', 'cat', 'dragon', 'fish']\n",
    "del(pets[2])\n",
    "print(pets)"
   ]
  },
  {
   "cell_type": "code",
   "execution_count": null,
   "id": "cc0860b7",
   "metadata": {},
   "outputs": [],
   "source": [
    "pets=[]\n",
    "pets.append(\"dog\")\n",
    "print(pets)"
   ]
  },
  {
   "cell_type": "code",
   "execution_count": null,
   "id": "ebdea4f5",
   "metadata": {},
   "outputs": [],
   "source": [
    "pets.append(\"cat\")"
   ]
  },
  {
   "cell_type": "code",
   "execution_count": null,
   "id": "2df56b48",
   "metadata": {},
   "outputs": [],
   "source": [
    "print(pets)"
   ]
  },
  {
   "cell_type": "code",
   "execution_count": null,
   "id": "7d31d21e",
   "metadata": {},
   "outputs": [],
   "source": [
    "pets.insert(2,\"fish\")"
   ]
  },
  {
   "cell_type": "code",
   "execution_count": null,
   "id": "d0706cbb",
   "metadata": {},
   "outputs": [],
   "source": [
    "print(pets)"
   ]
  },
  {
   "cell_type": "code",
   "execution_count": null,
   "id": "eb8784c5",
   "metadata": {},
   "outputs": [],
   "source": [
    "del(pets[3:4])"
   ]
  },
  {
   "cell_type": "code",
   "execution_count": null,
   "id": "56ad2be8",
   "metadata": {},
   "outputs": [],
   "source": [
    "print(pets)"
   ]
  },
  {
   "cell_type": "code",
   "execution_count": null,
   "id": "b6ba05be",
   "metadata": {},
   "outputs": [],
   "source": [
    "pets.pop()\n",
    "print(pets)"
   ]
  },
  {
   "cell_type": "code",
   "execution_count": null,
   "id": "1942dc71",
   "metadata": {},
   "outputs": [],
   "source": [
    "def func_a(x):\n",
    "    return 2*x\n",
    "\n",
    "y = func_a(5)\n",
    "print(y)"
   ]
  },
  {
   "cell_type": "code",
   "execution_count": null,
   "id": "1481a92c",
   "metadata": {
    "scrolled": true
   },
   "outputs": [],
   "source": [
    "def print_square(indent,side,symbol):\n",
    "    \"\"\"Prints indented square of characters:\n",
    "\n",
    "    indent = leading spaces (int)\n",
    "    side   = side length (int)\n",
    "    symbol = character (str). \"\"\"\n",
    "    for j in range(0,side):\n",
    "        print(indent*\" \" + side*symbol)\n",
    "  \n",
    "print_square(10,10,\"^\")"
   ]
  },
  {
   "cell_type": "code",
   "execution_count": null,
   "id": "e3ccd766",
   "metadata": {},
   "outputs": [],
   "source": [
    "# Simple way to read from text file\n",
    "f = open(\"poem.txt\",\"r\")\n",
    "line1 = f.readline()\n",
    "line2 = f.readline()\n",
    "line3 = f.readline()\n",
    "line4 = f.readline()\n",
    "f.close()\n",
    "print (line1 + line2 + line3 + line4)"
   ]
  },
  {
   "cell_type": "code",
   "execution_count": null,
   "id": "6e3a9057",
   "metadata": {},
   "outputs": [],
   "source": [
    "# Simple way to read from text file from other folders\n",
    "f = open(\"C:\\\\Users\\\\gcman\\\\Downloads\\\\poem2.txt\",\"r\")\n",
    "line1 = f.readline()\n",
    "line2 = f.readline()\n",
    "line3 = f.readline()\n",
    "line4 = f.readline()\n",
    "f.close()\n",
    "print (line1 + line2 + line3 + line4)"
   ]
  },
  {
   "cell_type": "code",
   "execution_count": null,
   "id": "dcf0f588",
   "metadata": {},
   "outputs": [],
   "source": [
    "# More efficient way to read from text file\n",
    "f = open(\"poem.txt\",\"r\")\n",
    "lines = f.readlines()\n",
    "f.close()\n",
    "for line in lines:\n",
    "    print(line.strip())"
   ]
  },
  {
   "cell_type": "code",
   "execution_count": null,
   "id": "febe5177",
   "metadata": {},
   "outputs": [],
   "source": [
    "# Reading and printing from a text file\n",
    "f = open(\"poem.txt\",\"r\")\n",
    "for line in f:\n",
    "    print(line.strip())"
   ]
  },
  {
   "cell_type": "code",
   "execution_count": null,
   "id": "4ef290f3",
   "metadata": {},
   "outputs": [],
   "source": [
    "f = open(\"poem.txt\",\"a\")\n",
    "f.write(\"One for the master,\\n\")\n",
    "f.write(\"And one for the dame,\\n\")\n",
    "f.write(\"And one for the little boy,\\n\")\n",
    "f.write(\"Who lives down the lane.\\n\")\n",
    "f.close()"
   ]
  },
  {
   "cell_type": "code",
   "execution_count": null,
   "id": "d969156a",
   "metadata": {},
   "outputs": [],
   "source": [
    "f = open(\"record.csv\",\"r\")\n",
    "for line in f:\n",
    "    print(line.strip())"
   ]
  },
  {
   "cell_type": "code",
   "execution_count": null,
   "id": "ed8246cd",
   "metadata": {},
   "outputs": [],
   "source": [
    "f = open(\"record.csv\",\"r\")\n",
    "for line in f:\n",
    "    rec = line.strip().split(\",\")\n",
    "    print(rec)"
   ]
  },
  {
   "cell_type": "code",
   "execution_count": null,
   "id": "96534503",
   "metadata": {},
   "outputs": [
    {
     "name": "stdout",
     "output_type": "stream",
     "text": [
      "Enter an integer number: one\n",
      "Please enter an INTEGER NUMBER!!!\n"
     ]
    }
   ],
   "source": [
    "while True:\n",
    "    try:\n",
    "        x = int(input(\"Enter an integer number: \"))\n",
    "        break\n",
    "    except:\n",
    "        print(\"Please enter an INTEGER NUMBER!!!\")\n",
    "print(f\"You have enter: {x}\")"
   ]
  },
  {
   "cell_type": "code",
   "execution_count": 1,
   "id": "ca3206eb",
   "metadata": {},
   "outputs": [],
   "source": [
    "capitals = {\"Singapore\":\"Singapore\", \"Malaysia\":\"Kuala Lumpur\"}"
   ]
  },
  {
   "cell_type": "code",
   "execution_count": 3,
   "id": "d2fc8556",
   "metadata": {},
   "outputs": [
    {
     "name": "stdout",
     "output_type": "stream",
     "text": [
      "Kuala Lumpur\n"
     ]
    }
   ],
   "source": [
    "print(capitals[\"Malaysia\"])"
   ]
  },
  {
   "cell_type": "code",
   "execution_count": 4,
   "id": "09751b78",
   "metadata": {},
   "outputs": [
    {
     "name": "stdout",
     "output_type": "stream",
     "text": [
      "{'Singapore': 'Singapore', 'Malaysia': 'Kuala Lumpur'}\n"
     ]
    }
   ],
   "source": [
    "print(capitals)"
   ]
  },
  {
   "cell_type": "code",
   "execution_count": 7,
   "id": "edcb3e2b",
   "metadata": {},
   "outputs": [],
   "source": [
    "capitals.update({\"Thailand\":\"Bangkok\"})"
   ]
  },
  {
   "cell_type": "code",
   "execution_count": 8,
   "id": "5d179ec4",
   "metadata": {},
   "outputs": [
    {
     "name": "stdout",
     "output_type": "stream",
     "text": [
      "{'Singapore': 'Singapore', 'Malaysia': 'Kuala Lumpur', 'Thailand': 'Bangkok'}\n"
     ]
    }
   ],
   "source": [
    "print(capitals)"
   ]
  },
  {
   "cell_type": "code",
   "execution_count": 9,
   "id": "4224c04d",
   "metadata": {},
   "outputs": [],
   "source": [
    "capitals.update({\"Indonesia\":\"Jakarta\"})"
   ]
  },
  {
   "cell_type": "code",
   "execution_count": 10,
   "id": "64f33a64",
   "metadata": {},
   "outputs": [
    {
     "name": "stdout",
     "output_type": "stream",
     "text": [
      "{'Singapore': 'Singapore', 'Malaysia': 'Kuala Lumpur', 'Thailand': 'Bangkok', 'Indonesia': 'Jakarta'}\n"
     ]
    }
   ],
   "source": [
    "print(capitals)"
   ]
  },
  {
   "cell_type": "code",
   "execution_count": 11,
   "id": "3d3a1038",
   "metadata": {},
   "outputs": [
    {
     "data": {
      "text/plain": [
       "dict_keys(['Singapore', 'Malaysia', 'Thailand', 'Indonesia'])"
      ]
     },
     "execution_count": 11,
     "metadata": {},
     "output_type": "execute_result"
    }
   ],
   "source": [
    "capitals.keys()"
   ]
  },
  {
   "cell_type": "code",
   "execution_count": 13,
   "id": "a0948e71",
   "metadata": {},
   "outputs": [
    {
     "data": {
      "text/plain": [
       "dict_values(['Singapore', 'Kuala Lumpur', 'Bangkok', 'Jakarta'])"
      ]
     },
     "execution_count": 13,
     "metadata": {},
     "output_type": "execute_result"
    }
   ],
   "source": [
    "capitals.values()"
   ]
  },
  {
   "cell_type": "code",
   "execution_count": 14,
   "id": "4b45c5c2",
   "metadata": {},
   "outputs": [
    {
     "data": {
      "text/plain": [
       "'Kuala Lumpur'"
      ]
     },
     "execution_count": 14,
     "metadata": {},
     "output_type": "execute_result"
    }
   ],
   "source": [
    "capitals.pop(\"Malaysia\")"
   ]
  },
  {
   "cell_type": "code",
   "execution_count": 15,
   "id": "37dd70af",
   "metadata": {},
   "outputs": [
    {
     "name": "stdout",
     "output_type": "stream",
     "text": [
      "{'Singapore': 'Singapore', 'Thailand': 'Bangkok', 'Indonesia': 'Jakarta'}\n"
     ]
    }
   ],
   "source": [
    "print(capitals)"
   ]
  },
  {
   "cell_type": "code",
   "execution_count": 19,
   "id": "32c7cf4b",
   "metadata": {},
   "outputs": [
    {
     "name": "stdout",
     "output_type": "stream",
     "text": [
      "Singapore: Singapore\n",
      "Thailand: Bangkok\n",
      "Indonesia: Jakarta\n"
     ]
    }
   ],
   "source": [
    "for country in capitals.keys():\n",
    "    print(f\"{country}: {capitals[country]}\")"
   ]
  },
  {
   "cell_type": "code",
   "execution_count": 28,
   "id": "796d4f31",
   "metadata": {},
   "outputs": [
    {
     "name": "stdout",
     "output_type": "stream",
     "text": [
      "Enter the country name: Thailand\n",
      "Capital of Thailand is Bangkok.\n"
     ]
    }
   ],
   "source": [
    "c = input(\"Enter the country name: \")\n",
    "try:\n",
    "    print(f\"Capital of {c} is {capitals[c]}.\")\n",
    "except:\n",
    "    print(f\"{c} is not in the dictionary.\")"
   ]
  },
  {
   "cell_type": "code",
   "execution_count": 21,
   "id": "d52334fa",
   "metadata": {},
   "outputs": [
    {
     "name": "stdout",
     "output_type": "stream",
     "text": [
      "A 80\n",
      "B 65\n",
      "C 55\n",
      "D 45\n"
     ]
    }
   ],
   "source": [
    "d={'A': 80, 'C': 55, 'B': 65, 'D': 45}\n",
    "sortedkeys = sorted(d.keys())\n",
    "for key in sortedkeys:\n",
    "    print (key, d[key])"
   ]
  },
  {
   "cell_type": "code",
   "execution_count": 22,
   "id": "ea799bad",
   "metadata": {},
   "outputs": [
    {
     "name": "stdout",
     "output_type": "stream",
     "text": [
      "C\n"
     ]
    }
   ],
   "source": [
    "def find_key(dic,val):\n",
    "    for key in dic.keys():\n",
    "        if dic[key]==val:\n",
    "            return key\n",
    "\n",
    "d={'A': 80, 'C': 55, 'B': 65, 'D': 45}\n",
    "print (find_key(d,55)) "
   ]
  },
  {
   "cell_type": "code",
   "execution_count": null,
   "id": "1effa8e2",
   "metadata": {},
   "outputs": [],
   "source": []
  }
 ],
 "metadata": {
  "kernelspec": {
   "display_name": "Python 3 (ipykernel)",
   "language": "python",
   "name": "python3"
  },
  "language_info": {
   "codemirror_mode": {
    "name": "ipython",
    "version": 3
   },
   "file_extension": ".py",
   "mimetype": "text/x-python",
   "name": "python",
   "nbconvert_exporter": "python",
   "pygments_lexer": "ipython3",
   "version": "3.9.7"
  }
 },
 "nbformat": 4,
 "nbformat_minor": 5
}
